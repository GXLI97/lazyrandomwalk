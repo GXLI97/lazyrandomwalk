{
 "cells": [
  {
   "cell_type": "code",
   "execution_count": null,
   "metadata": {},
   "outputs": [],
   "source": [
    "from bounter import bounter\n",
    "from collections import Counter\n",
    "import numpy as np\n",
    "import time\n",
    "import pickle\n",
    "from scipy.sparse import dok_matrix, csr_matrix\n",
    "import numpy as np"
   ]
  },
  {
   "cell_type": "code",
   "execution_count": null,
   "metadata": {},
   "outputs": [],
   "source": [
    "CORPUS_FILE = \"data/text8\"\n",
    "MIN_COUNT = 1000\n",
    "WINDOW = 10"
   ]
  },
  {
   "cell_type": "code",
   "execution_count": null,
   "metadata": {},
   "outputs": [],
   "source": [
    "# This is a generator for producing words.\n",
    "def read_words(f):\n",
    "    while True:\n",
    "        buf = f.read(10240)\n",
    "        if not buf:\n",
    "            break\n",
    "\n",
    "        # make sure we end on a space (word boundary)\n",
    "        while not str.isspace(buf[-1]):\n",
    "            ch = f.read(1)\n",
    "            if not ch:\n",
    "                break\n",
    "            buf += ch\n",
    "\n",
    "        words = buf.split()\n",
    "        for word in words:\n",
    "            yield word\n",
    "    yield '' #handle the scene that the file is empty"
   ]
  },
  {
   "cell_type": "code",
   "execution_count": null,
   "metadata": {},
   "outputs": [],
   "source": [
    "# Reads vocab from corpus file, tallying counts. \n",
    "# only keep those that have count >= MIN_COUNT.\n",
    "def read_vocab():\n",
    "    with open(CORPUS_FILE, 'r') as f:\n",
    "        vocab = bounter(size_mb=8192)\n",
    "        i = 1\n",
    "        \n",
    "        for word in read_words(f):\n",
    "            if i % 1000000 == 0:\n",
    "                print(\"Words processed so far: {}\".format(i), end=\"\\r\")\n",
    "            i += 1\n",
    "            vocab.increment(word, 1)\n",
    "            \n",
    "        print(\"\\nTotal distinct: {}\".format(len(list(vocab))))\n",
    "        wordcounts = dict([(token, count) for token, count in vocab.items() if count >= MIN_COUNT])\n",
    "        print(\"Truncated total number of words: = {}\".format(len(wordcounts)))\n",
    "        print(\"First 5: {}\".format({k: wordcounts[k] for k in list(wordcounts)[:5]}))\n",
    "    return wordcounts\n",
    "\n",
    "start = time.time()\n",
    "wordcounts = read_vocab()\n",
    "end = time.time()\n",
    "print(\"Time spent: {}\".format(end-start))\n",
    "\n",
    "# OUT_FILE = CORPUS_FILE + \".wordcounts.p\"\n",
    "# pickle.dump(wordcounts, open(OUT_FILE, \"wb\"))"
   ]
  },
  {
   "cell_type": "code",
   "execution_count": null,
   "metadata": {},
   "outputs": [],
   "source": [
    "# build dicts to map from words to indices and indices to words.\n",
    "idx2word = list(wordcounts.keys())\n",
    "word2idx = {idx2word[i]: i for i in range(len(idx2word))}\n",
    "# OUT_FILE = CORPUS_FILE + \".idx2word.p\"\n",
    "# pickle.dump(idx2word, open(OUT_FILE, \"wb\"))\n",
    "# OUT_FILE = CORPUS_FILE + \".word2idx.p\"\n",
    "# pickle.dump(word2idx, open(OUT_FILE, \"wb\"))"
   ]
  },
  {
   "cell_type": "code",
   "execution_count": null,
   "metadata": {},
   "outputs": [],
   "source": [
    "# sliding window co-occurences.\n",
    "def get_co_counts():\n",
    "    word_list = []\n",
    "    co_counts = Counter()\n",
    "    \n",
    "    with open(CORPUS_FILE, 'r') as f:\n",
    "        cnt = 1\n",
    "        \n",
    "        for word in read_words(f):\n",
    "            if cnt % 100000 == 0:\n",
    "                print(\"Words processed so far: {}\".format(cnt), end=\"\\r\")\n",
    "            cnt += 1\n",
    "            if word not in word2idx:\n",
    "                continue\n",
    "            w2 = word\n",
    "            if len(word_list) > WINDOW:\n",
    "                word_list.pop(0)\n",
    "            for w1 in word_list:\n",
    "                co_counts.update([w1 + \" \" + w2])\n",
    "                co_counts.update([w2 + \" \" + w1])\n",
    "            word_list.append(w2)\n",
    "    return co_counts\n",
    "\n",
    "start = time.time()\n",
    "co_counts = get_co_counts()\n",
    "end = time.time()\n",
    "print(\"time spent: {}\".format(end-start))"
   ]
  },
  {
   "cell_type": "code",
   "execution_count": null,
   "metadata": {},
   "outputs": [],
   "source": [
    "with open(\"data/text8.vocab.txt\") as f:\n",
    "    g = f.readlines()\n",
    "\n",
    "word_dict = {}\n",
    "for entry in g:\n",
    "    w, c = entry.strip().split()\n",
    "    word_dict[w] = int(c)\n",
    "n = len(word_dict)\n"
   ]
  },
  {
   "cell_type": "code",
   "execution_count": null,
   "metadata": {},
   "outputs": [],
   "source": [
    "co_counts.get(\"in the\")"
   ]
  },
  {
   "cell_type": "code",
   "execution_count": null,
   "metadata": {},
   "outputs": [],
   "source": [
    "counts = csr_matrix((n, n), dtype=np.int32)\n",
    "tmp_counts = dok_matrix((n, n), dtype=np.int32)\n",
    "update_threshold = 100000\n",
    "\n",
    "import struct\n",
    "\n",
    "i = 0\n",
    "with open(\"data/text8.cooccurrence.bin\", \"rb\") as f:\n",
    "    while True:\n",
    "        try:\n",
    "            id1 = struct.unpack('i', f.read(4))[0]\n",
    "            id2 = struct.unpack('i', f.read(4))[0]\n",
    "            c = struct.unpack('d', f.read(8))[0]\n",
    "            tmp_counts[id1-1, id2-1] = int(c)\n",
    "\n",
    "            if i == update_threshold:\n",
    "                counts = counts + tmp_counts.tocsr()\n",
    "                tmp_counts = dok_matrix((n,n), dtype=np.int32)\n",
    "                i = 0\n",
    "        except:\n",
    "            break\n",
    "    counts = counts + tmp_counts.tocsr()\n",
    "    \n",
    "scipy.sparse.save_npz('data/text8.comat.npz')"
   ]
  },
  {
   "cell_type": "code",
   "execution_count": null,
   "metadata": {},
   "outputs": [],
   "source": [
    "VOCAB_FILE = 'data/wikipedia.vocab.txt'\n",
    "COOCCUR_FILE = 'data/wikipedia.cooccurrence.bin'\n",
    "WORD2ID_FILE = 'data/wikipedia.word2id.p'\n",
    "ID2WORD_FILE = 'data/wikipedia.id2word.p'\n",
    "COMAT_FILE = 'data/wikipedia.comat.npz'\n",
    "\n",
    "with open(VOCAB_FILE) as f:\n",
    "    words = f.readlines()\n",
    "\n",
    "n = len(words)\n",
    "\n",
    "word2id = {}\n",
    "id2word = []\n",
    "\n",
    "id = 0\n",
    "for entry in words:\n",
    "    w, c = entry.strip().split()\n",
    "    word2id[w] = id\n",
    "    id2word.append(w)\n",
    "    id += 1\n",
    "\n",
    "print(word2id[\"the\"])\n",
    "print(id2word[0])\n",
    "\n",
    "n"
   ]
  },
  {
   "cell_type": "code",
   "execution_count": 26,
   "metadata": {},
   "outputs": [
    {
     "name": "stdout",
     "output_type": "stream",
     "text": [
      "0 -1 570 5e-324\n"
     ]
    },
    {
     "ename": "IndexError",
     "evalue": "index out of bounds: 0<=-1182129863<3446, 0<=1066057779<3446",
     "output_type": "error",
     "traceback": [
      "\u001b[0;31m---------------------------------------------------------------------------\u001b[0m",
      "\u001b[0;31mIndexError\u001b[0m                                Traceback (most recent call last)",
      "\u001b[0;32m<ipython-input-26-a243a299bccb>\u001b[0m in \u001b[0;36m<module>\u001b[0;34m()\u001b[0m\n\u001b[1;32m     14\u001b[0m         \u001b[0;32mexcept\u001b[0m\u001b[0;34m:\u001b[0m\u001b[0;34m\u001b[0m\u001b[0m\n\u001b[1;32m     15\u001b[0m             \u001b[0;32mbreak\u001b[0m\u001b[0;34m\u001b[0m\u001b[0m\n\u001b[0;32m---> 16\u001b[0;31m         \u001b[0;32mif\u001b[0m \u001b[0mdat\u001b[0m\u001b[0;34m[\u001b[0m\u001b[0mid1\u001b[0m\u001b[0;34m-\u001b[0m\u001b[0;36m1\u001b[0m\u001b[0;34m,\u001b[0m \u001b[0mid2\u001b[0m\u001b[0;34m-\u001b[0m\u001b[0;36m1\u001b[0m\u001b[0;34m]\u001b[0m \u001b[0;34m!=\u001b[0m \u001b[0mc\u001b[0m\u001b[0;34m:\u001b[0m\u001b[0;34m\u001b[0m\u001b[0m\n\u001b[0m\u001b[1;32m     17\u001b[0m             \u001b[0mprint\u001b[0m\u001b[0;34m(\u001b[0m\u001b[0mid1\u001b[0m\u001b[0;34m-\u001b[0m\u001b[0;36m1\u001b[0m\u001b[0;34m,\u001b[0m \u001b[0mid2\u001b[0m\u001b[0;34m-\u001b[0m\u001b[0;36m1\u001b[0m\u001b[0;34m,\u001b[0m \u001b[0mdat\u001b[0m\u001b[0;34m[\u001b[0m\u001b[0mid1\u001b[0m\u001b[0;34m-\u001b[0m\u001b[0;36m1\u001b[0m\u001b[0;34m,\u001b[0m \u001b[0mid2\u001b[0m\u001b[0;34m-\u001b[0m\u001b[0;36m1\u001b[0m\u001b[0;34m]\u001b[0m\u001b[0;34m,\u001b[0m \u001b[0mc\u001b[0m\u001b[0;34m)\u001b[0m\u001b[0;34m\u001b[0m\u001b[0m\n\u001b[1;32m     18\u001b[0m \u001b[0;34m\u001b[0m\u001b[0m\n",
      "\u001b[0;32m/usr/local/lib/python3.6/site-packages/scipy/sparse/csr.py\u001b[0m in \u001b[0;36m__getitem__\u001b[0;34m(self, key)\u001b[0m\n\u001b[1;32m    287\u001b[0m             \u001b[0;31m# [i, j]\u001b[0m\u001b[0;34m\u001b[0m\u001b[0;34m\u001b[0m\u001b[0m\n\u001b[1;32m    288\u001b[0m             \u001b[0;32mif\u001b[0m \u001b[0misintlike\u001b[0m\u001b[0;34m(\u001b[0m\u001b[0mcol\u001b[0m\u001b[0;34m)\u001b[0m\u001b[0;34m:\u001b[0m\u001b[0;34m\u001b[0m\u001b[0m\n\u001b[0;32m--> 289\u001b[0;31m                 \u001b[0;32mreturn\u001b[0m \u001b[0mself\u001b[0m\u001b[0;34m.\u001b[0m\u001b[0m_get_single_element\u001b[0m\u001b[0;34m(\u001b[0m\u001b[0mrow\u001b[0m\u001b[0;34m,\u001b[0m \u001b[0mcol\u001b[0m\u001b[0;34m)\u001b[0m\u001b[0;34m\u001b[0m\u001b[0m\n\u001b[0m\u001b[1;32m    290\u001b[0m             \u001b[0;31m# [i, 1:2]\u001b[0m\u001b[0;34m\u001b[0m\u001b[0;34m\u001b[0m\u001b[0m\n\u001b[1;32m    291\u001b[0m             \u001b[0;32melif\u001b[0m \u001b[0misinstance\u001b[0m\u001b[0;34m(\u001b[0m\u001b[0mcol\u001b[0m\u001b[0;34m,\u001b[0m \u001b[0mslice\u001b[0m\u001b[0;34m)\u001b[0m\u001b[0;34m:\u001b[0m\u001b[0;34m\u001b[0m\u001b[0m\n",
      "\u001b[0;32m/usr/local/lib/python3.6/site-packages/scipy/sparse/compressed.py\u001b[0m in \u001b[0;36m_get_single_element\u001b[0;34m(self, row, col)\u001b[0m\n\u001b[1;32m    850\u001b[0m         \u001b[0;32mif\u001b[0m \u001b[0;32mnot\u001b[0m \u001b[0;34m(\u001b[0m\u001b[0;36m0\u001b[0m \u001b[0;34m<=\u001b[0m \u001b[0mrow\u001b[0m \u001b[0;34m<\u001b[0m \u001b[0mM\u001b[0m\u001b[0;34m)\u001b[0m \u001b[0;32mor\u001b[0m \u001b[0;32mnot\u001b[0m \u001b[0;34m(\u001b[0m\u001b[0;36m0\u001b[0m \u001b[0;34m<=\u001b[0m \u001b[0mcol\u001b[0m \u001b[0;34m<\u001b[0m \u001b[0mN\u001b[0m\u001b[0;34m)\u001b[0m\u001b[0;34m:\u001b[0m\u001b[0;34m\u001b[0m\u001b[0m\n\u001b[1;32m    851\u001b[0m             raise IndexError(\"index out of bounds: 0<=%d<%d, 0<=%d<%d\" %\n\u001b[0;32m--> 852\u001b[0;31m                              (row, M, col, N))\n\u001b[0m\u001b[1;32m    853\u001b[0m \u001b[0;34m\u001b[0m\u001b[0m\n\u001b[1;32m    854\u001b[0m         \u001b[0mmajor_index\u001b[0m\u001b[0;34m,\u001b[0m \u001b[0mminor_index\u001b[0m \u001b[0;34m=\u001b[0m \u001b[0mself\u001b[0m\u001b[0;34m.\u001b[0m\u001b[0m_swap\u001b[0m\u001b[0;34m(\u001b[0m\u001b[0;34m(\u001b[0m\u001b[0mrow\u001b[0m\u001b[0;34m,\u001b[0m \u001b[0mcol\u001b[0m\u001b[0;34m)\u001b[0m\u001b[0;34m)\u001b[0m\u001b[0;34m\u001b[0m\u001b[0m\n",
      "\u001b[0;31mIndexError\u001b[0m: index out of bounds: 0<=-1182129863<3446, 0<=1066057779<3446"
     ]
    }
   ],
   "source": [
    "from scipy.sparse import load_npz\n",
    "import struct\n",
    "dat = load_npz(\"data/text8.comat.npz\")\n",
    "\n",
    "# Validate on text8.\n",
    "with open(\"data/text8.cooccur.trunc.bin\", \"rb\") as f:\n",
    "    i = 0\n",
    "    while True:\n",
    "        try:\n",
    "            id1 = struct.unpack('i', f.read(4))[0]\n",
    "            id2 = struct.unpack('i', f.read(4))[0]\n",
    "            c = struct.unpack('d', f.read(8))[0]\n",
    "            i += 1\n",
    "        except:\n",
    "            break\n",
    "        print(id1, id2, c)\n",
    "        if i == 100:\n",
    "            break"
   ]
  },
  {
   "cell_type": "code",
   "execution_count": null,
   "metadata": {},
   "outputs": [],
   "source": [
    "\n"
   ]
  },
  {
   "cell_type": "code",
   "execution_count": null,
   "metadata": {},
   "outputs": [],
   "source": [
    "dat2 = load_npz(\"data/wikipedia.comat.npz\")"
   ]
  },
  {
   "cell_type": "code",
   "execution_count": null,
   "metadata": {},
   "outputs": [],
   "source": [
    "dat2[0,9]"
   ]
  },
  {
   "cell_type": "code",
   "execution_count": null,
   "metadata": {},
   "outputs": [],
   "source": [
    "# Validate on text8.\n",
    "with open(\"data/wikipedia.cooccurrence.bin\", \"rb\") as f:\n",
    "    for i in range(10):\n",
    "        id1 = struct.unpack('i', f.read(4))[0]\n",
    "        id2 = struct.unpack('i', f.read(4))[0]\n",
    "        c = struct.unpack('d', f.read(8))[0]\n",
    "        print(c)"
   ]
  },
  {
   "cell_type": "code",
   "execution_count": null,
   "metadata": {},
   "outputs": [],
   "source": [
    "import scipy\n",
    "import numpy as np\n",
    "from scipy.sparse import *\n",
    "from scipy.sparse.linalg import svds\n",
    "\n",
    "DIM = 500\n",
    "COMAT_FILE = \"data/text8.comat.npz\"\n",
    "X = load_npz(COMAT_FILE)\n",
    "\n",
    "def calc_pmi(counts):\n",
    "    pmi = csr_matrix(counts)\n",
    "    \n",
    "    sum_w = np.array(counts.sum(axis=1))[:, 0]\n",
    "    sum_c = np.array(counts.sum(axis=0))[0, :]\n",
    "    sum_total = sum_c.sum()\n",
    "    sum_w = 1/sum_w\n",
    "    sum_c = 1/sum_c\n",
    "\n",
    "    normL = dok_matrix((len(sum_w), len(sum_w)))\n",
    "    normL.setdiag(sum_w)\n",
    "    normR = dok_matrix((len(sum_c), len(sum_c)))\n",
    "    normR.setdiag(sum_c)\n",
    "    \n",
    "    pmi = normL.tocsr().dot(pmi).dot(normR.tocsr()) * sum_total\n",
    "    return pmi\n",
    "\n",
    "XPMI = calc_pmi(X)\n",
    "\n",
    "u, s, vt = svds(XPMI.tocsc(), k=500)\n",
    "np.save(\"vectors/text8.u.npy\", u)\n",
    "np.save(\"vectors/text8.s.npy\", s)\n",
    "np.save(\"vectors/text8.vt.npy\", vt)"
   ]
  },
  {
   "cell_type": "code",
   "execution_count": null,
   "metadata": {},
   "outputs": [],
   "source": [
    "from GloVe.eval.python import distance"
   ]
  },
  {
   "cell_type": "code",
   "execution_count": null,
   "metadata": {},
   "outputs": [],
   "source": [
    "distance.generate()"
   ]
  },
  {
   "cell_type": "code",
   "execution_count": null,
   "metadata": {},
   "outputs": [],
   "source": [
    "import pickle\n",
    "ID2WORD_FILE = 'data/text8.id2word.p'\n",
    "id2word = pickle.load(open(ID2WORD_FILE, \"rb\"))\n",
    "VECTEXT_FILE = 'vectors/text8.vectors.txt'\n",
    "\n",
    "with open(VECTEXT_FILE, \"w\") as f:\n",
    "    for i in range(u.shape[0]):\n",
    "        word = id2word[i]\n",
    "        vec = u[i,:]\n",
    "        f.write(word + \" \" + \" \".join([\"%.6f\" % x for x in u[i,:]]))"
   ]
  },
  {
   "cell_type": "code",
   "execution_count": null,
   "metadata": {},
   "outputs": [],
   "source": []
  },
  {
   "cell_type": "code",
   "execution_count": null,
   "metadata": {},
   "outputs": [],
   "source": [
    "import scipy\n",
    "import numpy as np\n",
    "from scipy.sparse import *\n",
    "from scipy.sparse.linalg import svds\n",
    "import time\n",
    "\n",
    "DIM = 50\n",
    "COMAT_FILE = \"data/text8.comat.npz\"\n",
    "XMAX = 1000\n",
    "X = load_npz(COMAT_FILE)"
   ]
  },
  {
   "cell_type": "code",
   "execution_count": null,
   "metadata": {},
   "outputs": [],
   "source": [
    "def truncate(counts):\n",
    "    counts.data[counts.data > XMAX] = XMAX\n",
    "    return counts\n",
    "\n",
    "def calc_pmi(counts):\n",
    "    print(\"Calculating PMI...\")\n",
    "    pmi = csr_matrix(counts)\n",
    "    \n",
    "    sum_w = np.array(counts.sum(axis=1))[:, 0]\n",
    "    sum_c = np.array(counts.sum(axis=0))[0, :]\n",
    "    sum_total = sum_c.sum()\n",
    "    sum_w = 1/sum_w\n",
    "    sum_c = 1/sum_c\n",
    "\n",
    "    normL = dok_matrix((len(sum_w), len(sum_w)))\n",
    "    normL.setdiag(sum_w)\n",
    "    normR = dok_matrix((len(sum_c), len(sum_c)))\n",
    "    normR.setdiag(sum_c)\n",
    "    \n",
    "    pmi = normL.tocsr().dot(pmi).dot(normR.tocsr()) * sum_total\n",
    "    pmi.data = np.log(pmi.data)\n",
    "    return pmi"
   ]
  },
  {
   "cell_type": "code",
   "execution_count": null,
   "metadata": {},
   "outputs": [],
   "source": [
    "Xt = X.copy()\n",
    "Xt = truncate(Xt)"
   ]
  },
  {
   "cell_type": "code",
   "execution_count": null,
   "metadata": {},
   "outputs": [],
   "source": [
    "PMI1 = calc_pmi(X)\n",
    "PMI2 = calc_pmi(Xt)"
   ]
  },
  {
   "cell_type": "code",
   "execution_count": null,
   "metadata": {},
   "outputs": [],
   "source": [
    "PMI1.data"
   ]
  },
  {
   "cell_type": "code",
   "execution_count": null,
   "metadata": {},
   "outputs": [],
   "source": [
    "PMI2.data"
   ]
  },
  {
   "cell_type": "code",
   "execution_count": null,
   "metadata": {
    "scrolled": false
   },
   "outputs": [],
   "source": [
    "import matplotlib.pyplot as plt\n",
    "import matplotlib as mpl\n",
    "mpl.rcParams['figure.figsize'] = (10,10)\n",
    "plt.semilogx(X.data, PMI1.data, 'b.', alpha=.01)\n",
    "plt.semilogx(X.data, PMI2.data, 'g.', alpha=.01)\n",
    "plt.show()"
   ]
  },
  {
   "cell_type": "code",
   "execution_count": null,
   "metadata": {},
   "outputs": [],
   "source": [
    "a = np.sum(X, axis=0)"
   ]
  },
  {
   "cell_type": "code",
   "execution_count": null,
   "metadata": {},
   "outputs": [],
   "source": [
    "np.sum(Xt, axis=0)"
   ]
  },
  {
   "cell_type": "code",
   "execution_count": null,
   "metadata": {},
   "outputs": [],
   "source": [
    "from collections import Counter\n",
    "plt.hist(np.sum(X, axis=0).tolist()[0],  bins=np.logspace(np.log10(1e3),np.log10(1e7), 100), log=True, facecolor=\"blue\", alpha=0.5)\n",
    "plt.hist(np.sum(Xt, axis=0).tolist()[0],  bins=np.logspace(np.log10(1e3),np.log10(1e7), 100), log=True, facecolor=\"green\", alpha=0.5)\n",
    "plt.gca().set_xscale(\"log\")"
   ]
  },
  {
   "cell_type": "code",
   "execution_count": null,
   "metadata": {},
   "outputs": [],
   "source": [
    "from collections import Counter\n",
    "plt.hist(PMI1.data,  200, log=True, facecolor=\"blue\", alpha=0.5)\n",
    "plt.hist(PMI2.data,  200, log=True, facecolor=\"green\", alpha=0.5)\n",
    "plt.show()\n",
    "# plt.gca().set_xscale(\"log\")"
   ]
  },
  {
   "cell_type": "code",
   "execution_count": null,
   "metadata": {},
   "outputs": [],
   "source": [
    "PMI2.data"
   ]
  },
  {
   "cell_type": "code",
   "execution_count": null,
   "metadata": {},
   "outputs": [],
   "source": [
    "import scipy\n",
    "import numpy as np\n",
    "from scipy.sparse import *\n",
    "from scipy.sparse.linalg import svds\n",
    "import time\n",
    "\n",
    "DIM = 50\n",
    "COMAT_FILE = \"data/text8.comat.npz\"\n",
    "XMAX = 1e10\n",
    "X = load_npz(COMAT_FILE)\n",
    "X.data = X.data/X.sum()\n",
    "\n",
    "def truncate(counts):\n",
    "    counts.data[counts.data > XMAX] = XMAX\n",
    "    return counts\n",
    "\n",
    "def calc_pmi(counts):\n",
    "    print(\"Calculating PMI...\")\n",
    "    pmi = csr_matrix(counts)\n",
    "    \n",
    "    sum_w = np.array(counts.sum(axis=1))[:, 0]\n",
    "    sum_c = np.array(counts.sum(axis=0))[0, :]\n",
    "    sum_total = sum_c.sum()\n",
    "    sum_w = 1/sum_w\n",
    "    sum_c = 1/sum_c\n",
    "\n",
    "    normL = dok_matrix((len(sum_w), len(sum_w)))\n",
    "    normL.setdiag(sum_w)\n",
    "    normR = dok_matrix((len(sum_c), len(sum_c)))\n",
    "    normR.setdiag(sum_c)\n",
    "    \n",
    "    pmi = normL.tocsr().dot(pmi).dot(normR.tocsr()) * sum_total\n",
    "    pmi.data = np.log(pmi.data)\n",
    "    return pmi\n",
    "\n",
    "X = truncate(X)\n",
    "XPMI = calc_pmi(X)\n"
   ]
  },
  {
   "cell_type": "code",
   "execution_count": null,
   "metadata": {},
   "outputs": [],
   "source": [
    "def randwalk(counts):\n",
    "    uni = np.array(counts.sum(axis=1))[:, 0]\n",
    "    print(uni)\n",
    "    Dinv = dok_matrix((len(uni), len(uni)))\n",
    "    Dinv.setdiag(1/uni)\n",
    "    res = Dinv.dot(counts)\n",
    "    res = res**2\n",
    "    return res, uni\n",
    "\n",
    "res, uni = randwalk(X)"
   ]
  },
  {
   "cell_type": "code",
   "execution_count": null,
   "metadata": {},
   "outputs": [],
   "source": [
    "D = dok_matrix((len(uni), len(uni)))\n",
    "D.setdiag(uni)"
   ]
  },
  {
   "cell_type": "code",
   "execution_count": null,
   "metadata": {},
   "outputs": [],
   "source": [
    "blah = D.dot(res)"
   ]
  },
  {
   "cell_type": "code",
   "execution_count": null,
   "metadata": {},
   "outputs": [],
   "source": [
    "blah.sum()"
   ]
  },
  {
   "cell_type": "code",
   "execution_count": null,
   "metadata": {},
   "outputs": [],
   "source": [
    "a = np.array([1, .99, .97, .95, .9, .85, .8, .75, .7, .6, .5, .4, .3, .2, .1, 0])\n",
    "sem = np.array([.32, .37, .46, .46, .52, .52, .54, .54, .58, .58, .57, .56, .54, .53, .49, .37])\n",
    "syn = np.array([.43, .42, .45, .47, .51, .5, .5, .5, .48, .49, .49, .47, .45, .43, .42, .37])"
   ]
  },
  {
   "cell_type": "code",
   "execution_count": null,
   "metadata": {},
   "outputs": [],
   "source": [
    "import matplotlib.pyplot as plt\n",
    "import matplotlib as mpl\n",
    "mpl.rcParams['figure.figsize'] = (10,10)\n",
    "plt.plot(a, sem, 'b.-')\n",
    "plt.plot(a, syn, 'g.-')\n",
    "plt.legend(['Semantic Accuracy', 'Syntactic Accuracy'])"
   ]
  },
  {
   "cell_type": "code",
   "execution_count": 24,
   "metadata": {},
   "outputs": [],
   "source": [
    "import scipy\n",
    "import numpy as np\n",
    "from scipy.sparse import *\n",
    "from scipy.sparse.linalg import svds\n",
    "import time\n",
    "import pickle\n",
    "import logging\n",
    "import argparse\n",
    "import matplotlib.pyplot as plt\n",
    "\n",
    "DATASET = \"text8\"\n",
    "\n",
    "COMAT_FILE = \"data/{}.comat.npz\".format(DATASET)\n",
    "ID2WORD_FILE = 'data/{}.id2word.p'.format(DATASET)\n",
    "VECTEXT_FILE = 'vectors/{}.vectors.txt'.format(DATASET)\n",
    "NUM_WORDS = 3446\n",
    "ALPHA = 0.85\n",
    "\n",
    "logging.basicConfig(format='%(asctime)s : %(threadName)s : %(levelname)s : %(message)s', level=logging.INFO)\n",
    "\n",
    "def randwalk(counts):\n",
    "    logging.info(\"Calculating Random walk...\")\n",
    "    uni = np.array(counts.sum(axis=1))[:, 0]\n",
    "    Dinv = dok_matrix((len(uni), len(uni)))\n",
    "    Dinv.setdiag(1/uni)\n",
    "    res = Dinv.dot(counts)\n",
    "    # make matrix dense.\n",
    "    res = res.todense()\n",
    "    logging.info(\"Squaring matrix...\")\n",
    "    start = time.time()\n",
    "    res = ALPHA * res + (1-ALPHA) * (res ** 2)\n",
    "    end = time.time()\n",
    "    logging.info(\"Time taken {}\".format(end-start))\n",
    "    # convert back to p(w,w') matrix.\n",
    "    D = dok_matrix((len(uni), len(uni)))\n",
    "    D.setdiag(uni)\n",
    "    return D.dot(res)\n",
    "\n",
    "def main():\n",
    "    logging.info(\"loading matrix...\")\n",
    "    X = load_npz(COMAT_FILE)\n",
    "    X.data = X.data/X.sum()\n",
    "    X = X[:NUM_WORDS, :NUM_WORDS]\n",
    "    logging.info(X.nnz)\n",
    "    logging.info(X.shape)\n",
    "    Xpow = randwalk(X)\n",
    "    print(Xpow.sum())\n",
    "\n",
    "    # plot 1\n",
    "    ids = X.nonzero()\n",
    "    ids0 = (X==0).nonzero()\n",
    "    return X[ids], Xpow[ids], Xpow[ids0]"
   ]
  },
  {
   "cell_type": "code",
   "execution_count": null,
   "metadata": {},
   "outputs": [],
   "source": [
    "a, b, c = main()\n",
    "a = np.squeeze(np.asarray(a))\n",
    "b = np.squeeze(np.asarray(b))\n",
    "fig=plt.figure(figsize=(14, 12), dpi= 80, facecolor='w', edgecolor='k')\n",
    "lim = [1e-9, 1e-1]\n",
    "plt.loglog(a, b, 'b.')\n",
    "plt.loglog(lim, lim, 'r-')\n",
    "plt.xlim(lim)\n",
    "plt.ylim(lim)\n",
    "plt.savefig(\"plots/vis_pow.png\")"
   ]
  },
  {
   "cell_type": "code",
   "execution_count": 25,
   "metadata": {},
   "outputs": [
    {
     "name": "stderr",
     "output_type": "stream",
     "text": [
      "2018-07-07 15:30:18,378 : MainThread : INFO : loading matrix...\n",
      "2018-07-07 15:30:18,856 : MainThread : INFO : 7940916\n",
      "2018-07-07 15:30:18,857 : MainThread : INFO : (3446, 3446)\n",
      "2018-07-07 15:30:18,858 : MainThread : INFO : Calculating Random walk...\n",
      "2018-07-07 15:30:19,023 : MainThread : INFO : Squaring matrix...\n",
      "2018-07-07 15:30:20,896 : MainThread : INFO : Time taken 1.8728358745574951\n"
     ]
    },
    {
     "name": "stdout",
     "output_type": "stream",
     "text": [
      "1.0000000000000027\n"
     ]
    },
    {
     "name": "stderr",
     "output_type": "stream",
     "text": [
      "/usr/local/lib/python3.6/site-packages/scipy/sparse/compressed.py:214: SparseEfficiencyWarning: Comparing a sparse matrix with 0 using == is inefficient, try using != instead.\n",
      "  \", try using != instead.\", SparseEfficiencyWarning)\n"
     ]
    }
   ],
   "source": [
    "a,b,c = main()"
   ]
  },
  {
   "cell_type": "code",
   "execution_count": 7,
   "metadata": {},
   "outputs": [
    {
     "data": {
      "text/plain": [
       "(1, 3934000)"
      ]
     },
     "execution_count": 7,
     "metadata": {},
     "output_type": "execute_result"
    }
   ],
   "source": [
    "c.shape"
   ]
  },
  {
   "cell_type": "code",
   "execution_count": 23,
   "metadata": {},
   "outputs": [
    {
     "data": {
      "image/png": "[encoded data removed]",
      "text/plain": [
       "<matplotlib.figure.Figure at 0x10e6fd668>"
      ]
     },
     "metadata": {},
     "output_type": "display_data"
    }
   ],
   "source": [
    "fig=plt.figure(figsize=(14, 12), dpi= 80, facecolor='w', edgecolor='k')\n",
    "hist = plt.hist(np.squeeze(np.asarray(c)), bins=np.logspace(np.log10(1e-11),np.log10(1e-7), 400), log=True)\n",
    "plt.gca().set_xscale(\"log\")"
   ]
  },
  {
   "cell_type": "code",
   "execution_count": null,
   "metadata": {},
   "outputs": [],
   "source": []
  },
  {
   "cell_type": "code",
   "execution_count": null,
   "metadata": {},
   "outputs": [],
   "source": []
  },
  {
   "cell_type": "code",
   "execution_count": null,
   "metadata": {},
   "outputs": [],
   "source": []
  }
 ],
 "metadata": {
  "kernelspec": {
   "display_name": "Python 3",
   "language": "python",
   "name": "python3"
  },
  "language_info": {
   "codemirror_mode": {
    "name": "ipython",
    "version": 3
   },
   "file_extension": ".py",
   "mimetype": "text/x-python",
   "name": "python",
   "nbconvert_exporter": "python",
   "pygments_lexer": "ipython3",
   "version": "3.6.4"
  }
 },
 "nbformat": 4,
 "nbformat_minor": 2
}
